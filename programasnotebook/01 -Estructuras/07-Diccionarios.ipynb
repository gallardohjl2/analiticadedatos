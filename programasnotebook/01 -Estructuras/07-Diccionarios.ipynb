{
 "cells": [
  {
   "cell_type": "markdown",
   "metadata": {},
   "source": [
    "# Diccionarios\n",
    "\n",
    "El diccionario es otro tipo de estructura de datos de Python. No es una secuencia (pero puede adaptarse fácilmente a un procesamiento secuencial) y además es mutable.\n",
    "\n",
    "Para explicar lo que es un diccionario en Python, es importante comprender de manera literal lo que es un diccionario.\n",
    "\n",
    "## ¿Cómo crear un diccionario?\n",
    "\n",
    "Si deseas asignar algunos pares iniciales a un diccionario, utiliza la siguiente sintaxis:"
   ]
  },
  {
   "cell_type": "code",
   "execution_count": 1,
   "metadata": {},
   "outputs": [],
   "source": [
    "diccionario = { \"gato\": \"Morris\",\"perro\": \"Firulais\",\"caballo\": \"Sindi\"}\n",
    "telefonos = {'jefe': 5553455676, 'Suzy': 5345345}\n",
    "diccionario_vacio = {}"
   ]
  },
  {
   "cell_type": "code",
   "execution_count": 2,
   "metadata": {},
   "outputs": [
    {
     "name": "stdout",
     "output_type": "stream",
     "text": [
      "{'gato': 'Morris', 'perro': 'Firulais', 'caballo': 'Sindi'}\n",
      "{'jefe': 5553455676, 'Suzy': 5345345}\n",
      "{}\n"
     ]
    }
   ],
   "source": [
    "print(diccionario)\n",
    "print(telefonos)\n",
    "print(diccionario_vacio)"
   ]
  },
  {
   "cell_type": "markdown",
   "metadata": {},
   "source": [
    "## ¿Cómo utilizar un diccionario?"
   ]
  },
  {
   "cell_type": "code",
   "execution_count": 4,
   "metadata": {},
   "outputs": [],
   "source": [
    "diccionario = { \"gato\": \"Morris\",\"perro\": \"Firulais\",\"caballo\": \"Sindi\"}\n",
    "telefonos = {'jefe': 5553455676, 'Suzy': 5345345}"
   ]
  },
  {
   "cell_type": "code",
   "execution_count": 6,
   "metadata": {},
   "outputs": [
    {
     "name": "stdout",
     "output_type": "stream",
     "text": [
      "Morris\n"
     ]
    }
   ],
   "source": [
    "print(diccionario[\"gato\"])"
   ]
  },
  {
   "cell_type": "code",
   "execution_count": 10,
   "metadata": {},
   "outputs": [
    {
     "ename": "KeyError",
     "evalue": "'suzy'",
     "output_type": "error",
     "traceback": [
      "\u001b[1;31m---------------------------------------------------------------------------\u001b[0m",
      "\u001b[1;31mKeyError\u001b[0m                                  Traceback (most recent call last)",
      "Cell \u001b[1;32mIn[10], line 1\u001b[0m\n\u001b[1;32m----> 1\u001b[0m \u001b[38;5;28mprint\u001b[39m(\u001b[43mtelefonos\u001b[49m\u001b[43m[\u001b[49m\u001b[38;5;124;43m'\u001b[39;49m\u001b[38;5;124;43msuzy\u001b[39;49m\u001b[38;5;124;43m'\u001b[39;49m\u001b[43m]\u001b[49m)\n",
      "\u001b[1;31mKeyError\u001b[0m: 'suzy'"
     ]
    }
   ],
   "source": [
    "print(telefonos['suzy'])"
   ]
  },
  {
   "cell_type": "code",
   "execution_count": null,
   "metadata": {},
   "outputs": [],
   "source": []
  },
  {
   "cell_type": "code",
   "execution_count": 9,
   "metadata": {},
   "outputs": [
    {
     "name": "stdout",
     "output_type": "stream",
     "text": [
      "5345345\n"
     ]
    }
   ],
   "source": [
    "print(telefonos['Suzy'])"
   ]
  },
  {
   "cell_type": "code",
   "execution_count": 3,
   "metadata": {},
   "outputs": [
    {
     "name": "stdout",
     "output_type": "stream",
     "text": [
      "gato No esta en el diccionario\n",
      "león No esta en el diccionario\n",
      "caballo->cheval\n"
     ]
    }
   ],
   "source": [
    "dictionary = {\"cat\": \"gato\", \"perro\": \"chien\", \"caballo\": \"cheval\"}\n",
    "words = ['gato', 'león', 'caballo']\n",
    "\n",
    "for word in words:\n",
    "    if word in dictionary:\n",
    "        print(word + \"->\" + dictionary[word])\n",
    "    else:\n",
    "        print( word, \"No esta en el diccionario\" )"
   ]
  },
  {
   "cell_type": "markdown",
   "metadata": {},
   "source": [
    "## Métodos y funciones de los diccionarios"
   ]
  },
  {
   "cell_type": "markdown",
   "metadata": {},
   "source": [
    "### El método keys()\n",
    "\n",
    "¿Pueden los diccionarios ser examinados utilizando el bucle for, como las listas o tuplas?\n",
    "\n",
    "No y si.\n",
    "\n",
    "No, porque un diccionario no es un tipo de dato secuencial - el bucle for no es útil aquí.\n",
    "\n",
    "Si, porque hay herramientas simples y muy efectivas que pueden adaptar cualquier diccionario a los requerimientos del bucle for (en otras palabras, se construye un enlace intermedio entre el diccionario y una entidad secuencial temporal).\n",
    "\n",
    "El primero de ellos es un método denominado keys(), el cual es parte de todo diccionario. El método retorna o regresa una lista de todas las claves dentro del diccionario. Al tener una lista de claves se puede acceder a todo el diccionario de una manera fácil y útil.\n",
    "\n",
    "A continuación se muestra un ejemplo:\n"
   ]
  },
  {
   "cell_type": "code",
   "execution_count": 7,
   "metadata": {},
   "outputs": [
    {
     "name": "stdout",
     "output_type": "stream",
     "text": [
      "gato -> chat\n",
      "perro -> chien\n",
      "caballo -> cheval\n",
      "Burro -> Filemon\n"
     ]
    }
   ],
   "source": [
    "dictionary = {\"gato\": \"chat\", \"perro\": \"chien\", \"caballo\": \"cheval\", \"Burro\":\"Filemon\"}\n",
    "\n",
    "for key in dictionary.keys():\n",
    "    print(key, '->', dictionary[key])\n"
   ]
  },
  {
   "cell_type": "markdown",
   "metadata": {},
   "source": [
    "Otra manera de hacerlo es utilizar el método items(). Este método retorna una lista de tuplas (este es el primer ejemplo en el que las tuplas son mas que un ejemplo de si mismas) donde cada tupla es un par de cada clave con su valor.\n",
    "\n",
    "Así es como funciona:"
   ]
  },
  {
   "cell_type": "code",
   "execution_count": 8,
   "metadata": {},
   "outputs": [
    {
     "name": "stdout",
     "output_type": "stream",
     "text": [
      "gato -> chat\n",
      "perro -> chien\n",
      "caballo -> cheval\n",
      "Burro -> Filemon\n"
     ]
    }
   ],
   "source": [
    "dicti = {\"gato\": \"chat\", \"perro\": \"chien\", \"caballo\": \"cheval\", \"Burro\":\"Filemon\"}\n",
    "\n",
    "for key, valor in dicti.items():\n",
    "    print(key, \"->\", valor)"
   ]
  },
  {
   "cell_type": "markdown",
   "metadata": {},
   "source": [
    "### Modificar, agregar y eliminar valores\n",
    "\n",
    "El asignar un nuevo valor a una clave existente es sencillo - debido a que los diccionarios son completamente mutables, no existen obstáculos para modificarlos.\n",
    "\n",
    "Se va a reemplazar el valor \"chat\" por \"minou\", lo cual no es muy adecuado, pero funcionará con nuestro ejemplo.\n",
    "\n",
    "Observa:"
   ]
  },
  {
   "cell_type": "code",
   "execution_count": 11,
   "metadata": {},
   "outputs": [
    {
     "name": "stdout",
     "output_type": "stream",
     "text": [
      "{'gato': 'Morris', 'perro': 'chien', 'caballo': 'cheval', 'Burro': 'Filemon'}\n"
     ]
    }
   ],
   "source": [
    "# Cambiar el valor de una clave en diccionario\n",
    "dicti = {\"gato\": \"chat\", \"perro\": \"chien\", \"caballo\": \"cheval\", \"Burro\":\"Filemon\"}\n",
    "dicti[\"gato\"] = \"Morris\"\n",
    "print(dicti)"
   ]
  },
  {
   "cell_type": "markdown",
   "metadata": {},
   "source": [
    "### La función sorted()\n",
    "\n",
    "¿Deseas que la salida este ordenada? Solo hay que agregar al bucle for lo siguiente:"
   ]
  },
  {
   "cell_type": "code",
   "execution_count": 19,
   "metadata": {},
   "outputs": [
    {
     "name": "stdout",
     "output_type": "stream",
     "text": [
      "[1, 3, 4, 5, 6, 23]\n"
     ]
    }
   ],
   "source": [
    "# Ordenar una lista de forma ascendente\n",
    "\n",
    "lista = [4,5,1,23,6,3]\n",
    "lista_ordenada = sorted(lista)\n",
    "print(lista_ordenada)"
   ]
  },
  {
   "cell_type": "code",
   "execution_count": 20,
   "metadata": {},
   "outputs": [
    {
     "name": "stdout",
     "output_type": "stream",
     "text": [
      "[23, 6, 5, 4, 3, 1]\n"
     ]
    }
   ],
   "source": [
    "# Ordenar una lista de forma descendente\n",
    "\n",
    "lista = [4,5,1,23,6,3]\n",
    "lista_ordenada = sorted(lista, reverse=True)\n",
    "print(lista_ordenada)"
   ]
  },
  {
   "cell_type": "code",
   "execution_count": 23,
   "metadata": {},
   "outputs": [
    {
     "name": "stdout",
     "output_type": "stream",
     "text": [
      "Diccionario ordenado por claves  {'cat': 'gato', 'dog': 'Perro', 'fish': 'pez', 'horse': 'caballo'}\n"
     ]
    }
   ],
   "source": [
    "# Ordena por clave pero guarda tanto el key como el value, de forma ascendente\n",
    "\n",
    "dict_nuevo ={\n",
    "    \"cat\":\"gato\",\n",
    "    \"dog\":\"Perro\",\n",
    "    \"horse\": \"caballo\",\n",
    "    \"fish\": \"pez\"\n",
    "}\n",
    "\n",
    "diccionario_ordenado_claves = dict(sorted(dict_nuevo.items(),reverse=False))\n",
    "\n",
    "print(\"Diccionario ordenado por claves \", diccionario_ordenado_claves)"
   ]
  },
  {
   "cell_type": "code",
   "execution_count": null,
   "metadata": {},
   "outputs": [],
   "source": [
    "# Ordena por clave pero guarda tanto el key como el value, de forma descendente\n",
    "\n",
    "dict_nuevo ={\n",
    "    \"cat\":\"gato\",\n",
    "    \"dog\":\"Perro\",\n",
    "    \"horse\": \"caballo\",\n",
    "    \"fish\": \"pez\"\n",
    "}\n",
    "\n",
    "diccionario_ordenado_claves = dict(sorted(dict_nuevo.items(),reverse=True))\n",
    "\n",
    "print(\"Diccionario ordenado por claves \", diccionario_ordenado_claves)"
   ]
  },
  {
   "cell_type": "code",
   "execution_count": 25,
   "metadata": {},
   "outputs": [
    {
     "name": "stdout",
     "output_type": "stream",
     "text": [
      "Diccionario ordenado por clave  ['cat', 'dog', 'fish', 'horse']\n"
     ]
    }
   ],
   "source": [
    "# Ordenar por clave, pero solo muestra las claves y se ordena de forma ascendente\n",
    "\n",
    "claves_ordenadas = sorted(dict_nuevo.keys(), reverse=False)\n",
    "print(\"Diccionario ordenado por clave \", claves_ordenadas)"
   ]
  },
  {
   "cell_type": "code",
   "execution_count": 26,
   "metadata": {},
   "outputs": [
    {
     "name": "stdout",
     "output_type": "stream",
     "text": [
      "Diccionario ordenado por clave  ['horse', 'fish', 'dog', 'cat']\n"
     ]
    }
   ],
   "source": [
    "# Ordenar por clave, pero solo muestra las claves y se ordena de forma descendente\n",
    "\n",
    "claves_ordenadas = sorted(dict_nuevo.keys(), reverse=True)\n",
    "print(\"Diccionario ordenado por clave \", claves_ordenadas)"
   ]
  },
  {
   "cell_type": "markdown",
   "metadata": {},
   "source": [
    "### Agregando nuevas claves\n",
    "\n",
    "El agregar una nueva clave con su valor a un diccionario es tan simple como cambiar un valor. Solo se tiene que asignar un valor a una nueva clave que no haya existido antes.\n",
    "\n",
    "Nota: este es un comportamiento muy diferente comparado a las listas, las cuales no permiten asignar valores a índices no existentes.\n",
    "\n",
    "A continuación se agrega un par nuevo al diccionario - un poco extraño pero válido:"
   ]
  },
  {
   "cell_type": "code",
   "execution_count": 28,
   "metadata": {},
   "outputs": [
    {
     "name": "stdout",
     "output_type": "stream",
     "text": [
      "{'cat': 'gato', 'dog': 'Perro', 'horse': 'caballo', 'fish': 'pez', 'pig': 'cochino'}\n"
     ]
    }
   ],
   "source": [
    "dict_ingles_espanol ={\n",
    "    \"cat\":\"gato\",\n",
    "    \"dog\":\"Perro\",\n",
    "    \"horse\": \"caballo\",\n",
    "    \"fish\": \"pez\"\n",
    "}\n",
    "\n",
    "dict_ingles_espanol['pig'] = 'cochino'\n",
    "\n",
    "print(dict_ingles_espanol)"
   ]
  },
  {
   "cell_type": "markdown",
   "metadata": {},
   "source": [
    "<span style=\"background-color: orange; border-radius: 5px; padding: 2px 2px; color:black;\">Nota</span> \n",
    "\n",
    "También es posible insertar un elemento al diccionario utilizando el método update(), por ejemplo:"
   ]
  },
  {
   "cell_type": "code",
   "execution_count": 30,
   "metadata": {},
   "outputs": [
    {
     "name": "stdout",
     "output_type": "stream",
     "text": [
      "{'cat': 'gato', 'dog': 'Perro', 'horse': 'caballo', 'fish': 'pez', 'pig': 'cochino', 'turkey': 'Totol'}\n"
     ]
    }
   ],
   "source": [
    "dict_ingles_espanol.update({'turkey':'Totol'})\n",
    "print(dict_ingles_espanol)"
   ]
  },
  {
   "cell_type": "markdown",
   "metadata": {},
   "source": [
    "### Eliminado una clave\n",
    "\n",
    "¿Puedes deducir como eliminar una clave de un diccionario?\n",
    "\n",
    "Nota: al eliminar la clave también se removerá el valor asociado. Los valores no pueden existir sin sus claves.\n",
    "\n",
    "Esto se logra con la instrucción del.\n",
    "\n",
    "A continuación un ejemplo:"
   ]
  },
  {
   "cell_type": "code",
   "execution_count": 31,
   "metadata": {},
   "outputs": [
    {
     "name": "stdout",
     "output_type": "stream",
     "text": [
      "{'dog': 'Perro', 'horse': 'caballo', 'fish': 'pez'}\n"
     ]
    }
   ],
   "source": [
    "dict_ingles_espanol ={\n",
    "    \"cat\":\"gato\",\n",
    "    \"dog\":\"Perro\",\n",
    "    \"horse\": \"caballo\",\n",
    "    \"fish\": \"pez\"\n",
    "}\n",
    "\n",
    "del dict_ingles_espanol['cat']\n",
    "print(dict_ingles_espanol)"
   ]
  },
  {
   "cell_type": "markdown",
   "metadata": {},
   "source": [
    "Para eliminar el ultimo elemento de la lista, se puede emplear el método popitem():"
   ]
  },
  {
   "cell_type": "code",
   "execution_count": 32,
   "metadata": {},
   "outputs": [
    {
     "name": "stdout",
     "output_type": "stream",
     "text": [
      "{'dog': 'Perro', 'horse': 'caballo'}\n"
     ]
    }
   ],
   "source": [
    "dict_ingles_espanol.popitem()\n",
    "print(dict_ingles_espanol)"
   ]
  }
 ],
 "metadata": {
  "kernelspec": {
   "display_name": "Python 3",
   "language": "python",
   "name": "python3"
  },
  "language_info": {
   "codemirror_mode": {
    "name": "ipython",
    "version": 3
   },
   "file_extension": ".py",
   "mimetype": "text/x-python",
   "name": "python",
   "nbconvert_exporter": "python",
   "pygments_lexer": "ipython3",
   "version": "3.12.3"
  }
 },
 "nbformat": 4,
 "nbformat_minor": 2
}
